{
  "nbformat": 4,
  "nbformat_minor": 0,
  "metadata": {
    "colab": {
      "name": "IIT2019025_6D",
      "provenance": []
    },
    "kernelspec": {
      "name": "python3",
      "display_name": "Python 3"
    },
    "language_info": {
      "name": "python"
    }
  },
  "cells": [
    {
      "cell_type": "markdown",
      "metadata": {
        "id": "VW9SJLr7v2uX"
      },
      "source": [
        "#Q6d.  Implement the LWR algorithm on the Housing Price data set with different tau values.\t"
      ]
    },
    {
      "cell_type": "code",
      "metadata": {
        "id": "9BolzQGXHdo5",
        "colab": {
          "base_uri": "https://localhost:8080/",
          "height": 203
        },
        "outputId": "55145654-06e5-4eb4-d17e-9193548d3dda"
      },
      "source": [
        "import numpy as np\n",
        "import pandas as pd\n",
        "import matplotlib.pyplot as plt\n",
        "import cv2\n",
        "url = \"https://raw.githubusercontent.com/ritesh1731/ML_ASSIGNMENT/main/Housingprice\"\n",
        "input_data = pd.read_csv(url)\n",
        "input_data.head()"
      ],
      "execution_count": 72,
      "outputs": [
        {
          "output_type": "execute_result",
          "data": {
            "text/html": [
              "<div>\n",
              "<style scoped>\n",
              "    .dataframe tbody tr th:only-of-type {\n",
              "        vertical-align: middle;\n",
              "    }\n",
              "\n",
              "    .dataframe tbody tr th {\n",
              "        vertical-align: top;\n",
              "    }\n",
              "\n",
              "    .dataframe thead th {\n",
              "        text-align: right;\n",
              "    }\n",
              "</style>\n",
              "<table border=\"1\" class=\"dataframe\">\n",
              "  <thead>\n",
              "    <tr style=\"text-align: right;\">\n",
              "      <th></th>\n",
              "      <th>Unnamed: 0</th>\n",
              "      <th>price</th>\n",
              "      <th>lotsize</th>\n",
              "      <th>bedrooms</th>\n",
              "      <th>bathrms</th>\n",
              "      <th>stories</th>\n",
              "      <th>driveway</th>\n",
              "      <th>recroom</th>\n",
              "      <th>fullbase</th>\n",
              "      <th>gashw</th>\n",
              "      <th>airco</th>\n",
              "      <th>garagepl</th>\n",
              "      <th>prefarea</th>\n",
              "    </tr>\n",
              "  </thead>\n",
              "  <tbody>\n",
              "    <tr>\n",
              "      <th>0</th>\n",
              "      <td>1</td>\n",
              "      <td>42000.0</td>\n",
              "      <td>5850</td>\n",
              "      <td>3</td>\n",
              "      <td>1</td>\n",
              "      <td>2</td>\n",
              "      <td>yes</td>\n",
              "      <td>no</td>\n",
              "      <td>yes</td>\n",
              "      <td>no</td>\n",
              "      <td>no</td>\n",
              "      <td>1</td>\n",
              "      <td>no</td>\n",
              "    </tr>\n",
              "    <tr>\n",
              "      <th>1</th>\n",
              "      <td>2</td>\n",
              "      <td>38500.0</td>\n",
              "      <td>4000</td>\n",
              "      <td>2</td>\n",
              "      <td>1</td>\n",
              "      <td>1</td>\n",
              "      <td>yes</td>\n",
              "      <td>no</td>\n",
              "      <td>no</td>\n",
              "      <td>no</td>\n",
              "      <td>no</td>\n",
              "      <td>0</td>\n",
              "      <td>no</td>\n",
              "    </tr>\n",
              "    <tr>\n",
              "      <th>2</th>\n",
              "      <td>3</td>\n",
              "      <td>49500.0</td>\n",
              "      <td>3060</td>\n",
              "      <td>3</td>\n",
              "      <td>1</td>\n",
              "      <td>1</td>\n",
              "      <td>yes</td>\n",
              "      <td>no</td>\n",
              "      <td>no</td>\n",
              "      <td>no</td>\n",
              "      <td>no</td>\n",
              "      <td>0</td>\n",
              "      <td>no</td>\n",
              "    </tr>\n",
              "    <tr>\n",
              "      <th>3</th>\n",
              "      <td>4</td>\n",
              "      <td>60500.0</td>\n",
              "      <td>6650</td>\n",
              "      <td>3</td>\n",
              "      <td>1</td>\n",
              "      <td>2</td>\n",
              "      <td>yes</td>\n",
              "      <td>yes</td>\n",
              "      <td>no</td>\n",
              "      <td>no</td>\n",
              "      <td>no</td>\n",
              "      <td>0</td>\n",
              "      <td>no</td>\n",
              "    </tr>\n",
              "    <tr>\n",
              "      <th>4</th>\n",
              "      <td>5</td>\n",
              "      <td>61000.0</td>\n",
              "      <td>6360</td>\n",
              "      <td>2</td>\n",
              "      <td>1</td>\n",
              "      <td>1</td>\n",
              "      <td>yes</td>\n",
              "      <td>no</td>\n",
              "      <td>no</td>\n",
              "      <td>no</td>\n",
              "      <td>no</td>\n",
              "      <td>0</td>\n",
              "      <td>no</td>\n",
              "    </tr>\n",
              "  </tbody>\n",
              "</table>\n",
              "</div>"
            ],
            "text/plain": [
              "   Unnamed: 0    price  lotsize  bedrooms  ...  gashw  airco garagepl prefarea\n",
              "0           1  42000.0     5850         3  ...     no     no        1       no\n",
              "1           2  38500.0     4000         2  ...     no     no        0       no\n",
              "2           3  49500.0     3060         3  ...     no     no        0       no\n",
              "3           4  60500.0     6650         3  ...     no     no        0       no\n",
              "4           5  61000.0     6360         2  ...     no     no        0       no\n",
              "\n",
              "[5 rows x 13 columns]"
            ]
          },
          "metadata": {},
          "execution_count": 72
        }
      ]
    },
    {
      "cell_type": "code",
      "metadata": {
        "id": "GcxOiiwnJ3C2"
      },
      "source": [
        "FloorArea = input_data['lotsize']\n",
        "Number_of_Bedrooms = input_data['bedrooms']\n",
        "Number_of_Bathrooms = input_data['bathrms']\n",
        "Price = input_data['price']\n",
        "############################################\n",
        "\n",
        "Y_Matrix = input_data['price']\n",
        "Y_Matrix = np.array(Y_Matrix)\n",
        "Y_Matrix = Y_Matrix.reshape(Y_Matrix.shape[0], 1)\n",
        "\n",
        "#feature scaling\n",
        "# Performing feature scanning on FloorArea\n",
        "Mean_of_FloorArea = np.mean(FloorArea)\n",
        "Max_of_FloorArea = max(FloorArea)\n",
        "Min_of_FloorArea = min(FloorArea)\n",
        "Scaled_FloorArea = []\n",
        "for i in FloorArea:\n",
        "\tScaled_FloorArea.append((i - Mean_of_FloorArea) / (Max_of_FloorArea - Min_of_FloorArea))\n"
      ],
      "execution_count": 73,
      "outputs": []
    },
    {
      "cell_type": "markdown",
      "metadata": {
        "id": "pHz_3eLtdxs-"
      },
      "source": [
        "##Linear Weighted Regression "
      ]
    },
    {
      "cell_type": "code",
      "metadata": {
        "id": "Ca7fRqyXddIb",
        "colab": {
          "base_uri": "https://localhost:8080/"
        },
        "outputId": "53444e93-71e1-4a67-8795-c05af6af89dd"
      },
      "source": [
        "def Error_Calculation(Y_Matrix, Y_pred):\n",
        "    error = 0\n",
        "    for i in range(len(Y_Matrix)):\n",
        "        error += abs(Y_Matrix[i] - Y_pred[i]) / Y_Matrix[i]\n",
        "    error /= len(Y_Matrix)\n",
        "    return error * 100\n",
        "\n",
        "def kernel(MatrixX, xi, Hyper_Parameter_Tau):\n",
        "    return np.exp(-np.sum((xi - MatrixX) ** 2, axis = 1) / (2 * Hyper_Parameter_Tau * Hyper_Parameter_Tau))\n",
        "\n",
        "def LocallyWeightedLR(MatrixX, xi, Y_Matrix, Hyper_Parameter_Tau):\n",
        "\tTranspose_X_Matrix = np.transpose(MatrixX)\n",
        "\tW = kernel(MatrixX, xi, Hyper_Parameter_Tau)\n",
        "\tMatrixXTransposeW = Transpose_X_Matrix * W\n",
        "\tMatrixXTransposeWX = np.matmul(MatrixXTransposeW, MatrixX)\n",
        "\tInverseMatrixXTransposeWX = np.linalg.pinv(MatrixXTransposeWX)\n",
        "\tInverseMatrixXTransposeWXMatrixXTransposeW = np.matmul(InverseMatrixXTransposeWX, MatrixXTransposeW)\n",
        "\tInverseMatrixXTransposeWXMatrixXTransposeWY = np.matmul(InverseMatrixXTransposeWXMatrixXTransposeW, Y_Matrix)\n",
        "\tInverseMatrixXTransposeWXMatrixXTransposeWYTranspose = np.transpose(InverseMatrixXTransposeWXMatrixXTransposeWY)\n",
        "\treturn InverseMatrixXTransposeWXMatrixXTransposeWYTranspose.dot(xi)\n",
        " \n",
        "MatrixX = []\n",
        "for i in range(len(FloorArea)):\n",
        "\tMatrixX.append([1, Scaled_FloorArea[i], NoOfBedrooms[i], NoOfBathrooms[i]])\n",
        "MatrixX = np.array(MatrixX)\n",
        "\n",
        "# Hyper_Parameter_Tau = 0.00005\n",
        "Taus = [0.1, 0.01, 0.02, 0.001, 0.0001, 0.00001]\n",
        "for tau in Taus:\n",
        "    print(\"Using Locally Weighted Linear Regression for Tau = \" + str(tau))\n",
        "    pred = []\n",
        "    for i in range(MatrixX.shape[0]):\n",
        "\t    y_pred = LocallyWeightedLR(MatrixX, MatrixX[i], MatrixY, tau)\n",
        "\t    pred.append(y_pred)\n",
        "    print(\"Mean absolute percentage error is : \" + str(Error_Calculation(MatrixY,pred)))\n"
      ],
      "execution_count": 82,
      "outputs": [
        {
          "output_type": "stream",
          "name": "stdout",
          "text": [
            "Using Locally Weighted Linear Regression for Tau = 0.1\n",
            "Mean absolute percentage error is : [20.14065581]\n",
            "Using Locally Weighted Linear Regression for Tau = 0.01\n",
            "Mean absolute percentage error is : [16.41583941]\n",
            "Using Locally Weighted Linear Regression for Tau = 0.02\n",
            "Mean absolute percentage error is : [18.12596846]\n",
            "Using Locally Weighted Linear Regression for Tau = 0.001\n",
            "Mean absolute percentage error is : [7.56066413]\n",
            "Using Locally Weighted Linear Regression for Tau = 0.0001\n",
            "Mean absolute percentage error is : [5.40856556]\n",
            "Using Locally Weighted Linear Regression for Tau = 1e-05\n",
            "Mean absolute percentage error is : [5.40730554]\n"
          ]
        }
      ]
    },
    {
      "cell_type": "markdown",
      "metadata": {
        "id": "npTfrOS8d9XL"
      },
      "source": [
        "##Batch grad_func descent with regularization "
      ]
    },
    {
      "cell_type": "code",
      "metadata": {
        "id": "iOyxQTKTdmC_",
        "colab": {
          "base_uri": "https://localhost:8080/"
        },
        "outputId": "ff40eeb2-7df8-4c1b-b4cf-70a45b98ffdc"
      },
      "source": [
        "############################################################\n",
        "Area_of_FloorTrain = Scaled_Area_of_Floor[:383]\n",
        "Number_of_BathroomsTrain = Number_of_Bathrooms[:383]\n",
        "Number_of_BedroomsTrain = Number_of_Bedrooms[:383]\n",
        "PriceTrain = Price[:383]\n",
        "Area_of_FloorTest = Area_of_Floor[383:]\n",
        "Number_of_BathroomsTest = Number_of_Bathrooms[383:]\n",
        "Number_of_BedroomsTest = Number_of_Bedrooms[383:]\n",
        "PriceTest = Price[383:]\n",
        "\n",
        "#############################################################\n",
        "X_Train = []\n",
        "for i in range(383):\n",
        "\tX_Train.append([1, Scaled_Area_of_Floor[i], Number_of_Bedrooms[i], Number_of_Bathrooms[i]])\n",
        " \n",
        "lr = 0.001  #learning rate \n",
        "lamda = -120  #lambda value\n",
        "\n",
        "X_Test = []\n",
        "n = len(Area_of_FloorTest)\n",
        "for i in range(383,383+n):\n",
        "  X_Test.append([1,Scaled_Area_of_Floor[i],Number_of_Bedrooms[i],Number_of_Bathrooms[i]])\n",
        "\n",
        "\n",
        "\n",
        "x = np.array(X_Train)\n",
        "y = np.array(PriceTrain)\n",
        "w = np.array(([0],[0],[0],[0]))\n",
        "y = y.reshape(len(y),1)\n",
        "# print(w)\n",
        "\n",
        "def multiply(w,x):\n",
        "    ans=0\n",
        "    for i in range(w.shape[0]):\n",
        "        ans+=w[i][0]*x[i]\n",
        "    return ans\n",
        "\n",
        "def grad_func(x,w,y):\n",
        "    ans=np.zeros(w.shape[0])\n",
        "    for i in range(x.shape[0]):\n",
        "        ans=(ans+(multiply(w,x[i])-y[i][0])*x[i])\n",
        "    ans=ans.reshape(w.shape[0],1)\n",
        "    return ans\n",
        "\n",
        "m = x.shape[0]\n",
        "for i in range(5000):\n",
        "  temp = 1-((lr*lamda)/m)\n",
        "  w = temp*w-lr*grad_func(x,w,y)/m\n",
        "\n",
        "print(\"Cefficients are \",w)\n",
        "\n",
        "\n",
        "# mean absolute percentage error\n",
        "xtest = np.array(X_Test)\n",
        "ytest = np.array(PriceTest)\n",
        "ypred = np.dot(xtest,w)\n",
        "\n",
        "n = xtest.shape[0]\n",
        "mat = 0\n",
        "\n",
        "for i in range(n):\n",
        "  mat = mat + abs(ypred[i][0]-ytest[i])/y_test[i]\n",
        "mat = mat*100/n\n",
        "print(\"Mean absolute percentage error is \",mat)\n",
        "\n",
        "\n",
        "\n"
      ],
      "execution_count": 83,
      "outputs": [
        {
          "output_type": "stream",
          "name": "stdout",
          "text": [
            "Cefficients are  [[11027.93238871]\n",
            " [19272.80715199]\n",
            " [ 5262.5362372 ]\n",
            " [31018.09747139]]\n",
            "Mean absolute percentage error is  18.84547313581711\n"
          ]
        }
      ]
    },
    {
      "cell_type": "markdown",
      "metadata": {
        "id": "73-1plFfehAf"
      },
      "source": [
        "##Stochastic grad_func descent with regulariation"
      ]
    },
    {
      "cell_type": "code",
      "metadata": {
        "id": "eqay9tOueY6q",
        "colab": {
          "base_uri": "https://localhost:8080/"
        },
        "outputId": "6a67fbfe-2e52-4d8e-c85a-be7b5c9b5226"
      },
      "source": [
        "X_Train = []\n",
        "for i in range(383):\n",
        "\tX_Train.append([1, FloorArea_Scaled[i], NoOfBedrooms[i], NoOfBathrooms[i]])\n",
        " \n",
        "X_Test = []\n",
        "n = len(FloorAreaTest)\n",
        "for i in range(383,383+n):\n",
        "  X_Test.append([1,FloorArea_Scaled[i],NoOfBedrooms[i],NoOfBathrooms[i]])\n",
        "\n",
        "lr = 0.0005\n",
        "lamda = -10\n",
        "x = np.array(X_Train)\n",
        "y = np.array(PriceTrain)\n",
        "w = np.array([0,0,0,0])\n",
        "y = y.reshape(len(y),1)\n",
        "\n",
        "print(\"initial coefficients : \",w)\n",
        "\n",
        "def multiply(w,x):\n",
        "    ans=0\n",
        "    for i in range(x.shape[0]):\n",
        "        ans= ans +w[i]*x[i]\n",
        "    return ans\n",
        "\n",
        "\n",
        "for itr in range(20):\n",
        "  for i in range(x.shape[0]):\n",
        "    grad = (multiply(w,x[i]) - y[i][0])*x[i]\n",
        "    temp = 1-((lamda*lr)/x.shape[0])\n",
        "    w = temp*w - lr*grad\n",
        "\n",
        "print(\"coefficients are :\",w)\n",
        "\n",
        "\n",
        "# mean absolute percentage error\n",
        "w = w.reshape((4,1))\n",
        "xtest = np.array(X_Test)\n",
        "ytest = np.array(PriceTest)\n",
        "ypred = np.dot(xtest,w)\n",
        "\n",
        "n = xtest.shape[0]\n",
        "mat = 0\n",
        "\n",
        "for i in range(n):\n",
        "  mat = mat + abs(ypred[i][0]-ytest[i])/ytest[i]\n",
        "mat = mat*100/n\n",
        "print(\"Mean absolute percentage error\",mat)"
      ],
      "execution_count": 80,
      "outputs": [
        {
          "output_type": "stream",
          "name": "stdout",
          "text": [
            "initial coefficients :  [0 0 0 0]\n",
            "coefficients are : [ 8099.53322869  6266.87283801 13353.66990034 17698.12315756]\n",
            "Mean absolute percentage error 18.655780791680915\n"
          ]
        }
      ]
    },
    {
      "cell_type": "markdown",
      "metadata": {
        "id": "1jfe8TBfeySJ"
      },
      "source": [
        "##Mini Batch grad_func Descent with Regulatization "
      ]
    },
    {
      "cell_type": "code",
      "metadata": {
        "id": "iSH5-V9senND",
        "colab": {
          "base_uri": "https://localhost:8080/"
        },
        "outputId": "02661c13-7d9f-4ff1-ab6e-3f056b6f6eda"
      },
      "source": [
        "X_Train = []\n",
        "for i in range(383):\n",
        "\tX_Train.append([1, FloorArea_Scaled[i], NoOfBedrooms[i], NoOfBathrooms[i]])\n",
        " \n",
        "X_Test = []\n",
        "n = len(FloorAreaTest)\n",
        "for i in range(383,383+n):\n",
        "  X_Test.append([1,FloorArea_Scaled[i],NoOfBedrooms[i],NoOfBathrooms[i]])\n",
        "\n",
        "bs = 20 \n",
        "lr = 0.002\n",
        "lamda = -20\n",
        "\n",
        "x = np.array(X_Train)\n",
        "y = np.array(PriceTrain)\n",
        "w = np.array([0,0,0,0])\n",
        "y = y.reshape(len(y),1)\n",
        "\n",
        "def multiply(w,x):\n",
        "    ans=0\n",
        "    for i in range(x.shape[0]):\n",
        "        ans= ans +w[i]*x[i]\n",
        "    return ans\n",
        "\n",
        "def grad_func(x,w,y,st,bs):\n",
        "    ans=np.zeros(w.shape[0])\n",
        "    for i in range(st,st+bs):\n",
        "        if(i>=x.shape[0]):\n",
        "          break\n",
        "        ans=(ans+(multiply(w,x[i])-y[i][0])*x[i])\n",
        "    return ans\n",
        "\n",
        "for itr in range(50):\n",
        "  for i in range(bs):\n",
        "    temp = 1-((lamda*lr)/bs)\n",
        "    w = temp*w - (lr*grad_func(x,w,y,bs*i,bs))/bs\n",
        "print(\"coefficients are \",w)\n",
        "\n",
        "\n",
        "\n",
        "# mean absolute percentage error\n",
        "w = w.reshape((4,1))\n",
        "xtest = np.array(X_Test)\n",
        "ytest = np.array(PriceTest)\n",
        "ypred = np.dot(xtest,w)\n",
        "\n",
        "n = xtest.shape[0]\n",
        "mat = 0\n",
        "\n",
        "for i in range(n):\n",
        "  mat = mat + abs(ypred[i][0]-ytest[i])/ytest[i]\n",
        "mat = mat*100/n\n",
        "print(\"Mean absolute percentage error : \",mat)"
      ],
      "execution_count": 77,
      "outputs": [
        {
          "output_type": "stream",
          "name": "stdout",
          "text": [
            "coefficients are  [ 9280.88414526 10001.13873579 10055.23366084 25309.01693085]\n",
            "Mean absolute percentage error :  17.971898815464968\n"
          ]
        }
      ]
    }
  ]
}